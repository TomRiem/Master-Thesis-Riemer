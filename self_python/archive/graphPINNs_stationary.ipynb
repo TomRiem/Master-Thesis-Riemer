{
 "cells": [
  {
   "cell_type": "markdown",
   "metadata": {},
   "source": [
    "# PINNs on Graphs"
   ]
  },
  {
   "cell_type": "markdown",
   "metadata": {},
   "source": [
    "Import necessary packages."
   ]
  },
  {
   "cell_type": "code",
   "execution_count": 7,
   "metadata": {},
   "outputs": [],
   "source": [
    "# Import TensorFlow and NumPy\n",
    "import tensorflow as tf\n",
    "import numpy as np\n",
    "import scipy.optimize\n",
    "import matplotlib.pyplot as plt"
   ]
  },
  {
   "cell_type": "markdown",
   "metadata": {},
   "source": [
    "Define solver for PINNs."
   ]
  },
  {
   "cell_type": "markdown",
   "metadata": {},
   "source": [
    "## 1st step: Solve easy stationary equation"
   ]
  },
  {
   "cell_type": "code",
   "execution_count": 146,
   "metadata": {},
   "outputs": [],
   "source": [
    "DTYPE = 'float32'\n",
    "\n",
    "# Specify adjacency matrix\n",
    "A = tf.constant([[0, 1, 1, 1],\n",
    "                 [1, 0, 0, 0],\n",
    "                 [1, 0, 0, 0],\n",
    "                 [1, 0, 0, 0]], dtype=tf.int16)\n",
    "\n",
    "n_nodes = A.shape[0]\n",
    "\n",
    "# Edges\n",
    "E = tf.constant([[0, 1],\n",
    "                 [0, 2],\n",
    "                 [0, 3]], dtype=tf.int16)\n",
    "\n",
    "# Weights\n",
    "W = tf.constant([1,\n",
    "                 1,\n",
    "                 1], dtype=DTYPE)\n",
    "\n",
    "V = tf.constant([[0., 0.],\n",
    "                 [1., 0.],\n",
    "                 [np.sqrt(2)/2, np.sqrt(2)/2],\n",
    "                 [0., 1.]], dtype=DTYPE)\n",
    "\n",
    "Dirichlet_nodes = tf.constant([0], dtype=tf.int16)\n",
    "Dirichlet_vals = tf.constant([0.], dtype=DTYPE)"
   ]
  },
  {
   "cell_type": "code",
   "execution_count": 147,
   "metadata": {},
   "outputs": [],
   "source": [
    "# Bounds for parameter lambda\n",
    "lb = tf.constant([0.], dtype=DTYPE)\n",
    "ub = tf.constant([1.], dtype=DTYPE)\n",
    "\n",
    "N_r = 50"
   ]
  },
  {
   "cell_type": "code",
   "execution_count": 148,
   "metadata": {},
   "outputs": [],
   "source": [
    "# Define model architecture\n",
    "class PINN_NeuralNet(tf.keras.Model):\n",
    "    \"\"\" Set basic architecture of the PINN model.\"\"\"\n",
    "\n",
    "    def __init__(self, lb, ub,\n",
    "                 output_dim=1,\n",
    "                 num_hidden_layers=8,\n",
    "                 num_neurons_per_layer=20,\n",
    "                 activation='tanh',\n",
    "                 kernel_initializer='glorot_normal',\n",
    "                 **kwargs):\n",
    "        super().__init__(**kwargs)\n",
    "\n",
    "        self.num_hidden_layers = num_hidden_layers\n",
    "        self.output_dim = output_dim\n",
    "        self.dim = lb.shape[0]\n",
    "        self.lb = lb\n",
    "        self.ub = ub\n",
    "\n",
    "        # Define NN architecture\n",
    "        self.scale = tf.keras.layers.Lambda(\n",
    "            lambda x: 2.0 * (x - lb) / (ub - lb) - 1.0)\n",
    "\n",
    "        self.hidden = [tf.keras.layers.Dense(num_neurons_per_layer,\n",
    "                                             activation=tf.keras.activations.get(\n",
    "                                                 activation),\n",
    "                                             kernel_initializer=kernel_initializer) for _ in range(self.num_hidden_layers)]\n",
    "        self.out = tf.keras.layers.Dense(output_dim)\n",
    "\n",
    "    def call(self, X):\n",
    "        \"\"\"Forward-pass through neural network.\"\"\"\n",
    "        Z = self.scale(X)\n",
    "        for i in range(self.num_hidden_layers):\n",
    "            Z = self.hidden[i](Z)\n",
    "        return self.out(Z)"
   ]
  },
  {
   "cell_type": "markdown",
   "metadata": {},
   "source": [
    "### Version 1: One NN on each edge"
   ]
  },
  {
   "cell_type": "code",
   "execution_count": 149,
   "metadata": {},
   "outputs": [
    {
     "name": "stdout",
     "output_type": "stream",
     "text": [
      "Initialized 3 neural nets.\n"
     ]
    }
   ],
   "source": [
    "NNs = []\n",
    "for i,e in enumerate(E):\n",
    "    NNs.append(PINN_NeuralNet(lb=lb, ub=ub))\n",
    "    \n",
    "print('Initialized {:d} neural nets.'.format(len(NNs)))"
   ]
  },
  {
   "cell_type": "markdown",
   "metadata": {},
   "source": [
    "Set up solver class."
   ]
  },
  {
   "cell_type": "code",
   "execution_count": 153,
   "metadata": {},
   "outputs": [],
   "source": [
    "class PINNSolver(object):\n",
    "    def __init__(self, NNs, N_r):\n",
    "        self.NNs = NNs\n",
    "\n",
    "        # Store collocation points\n",
    "        self.N_r = N_r\n",
    "        \n",
    "        self.N_e = len(NNs)\n",
    "        \n",
    "        self.x = [tf.linspace(NNs[i].lb, NNs[i].ub, N_r+1)\n",
    "                      for i in range(self.N_e)]\n",
    "        \n",
    "        #self.x = [X_r[:, i:i+1] for i in range(self.model.dim)]\n",
    "\n",
    "        # Initialize history of losses and global iteration counter\n",
    "        self.hist = []\n",
    "        self.iter = 0\n",
    "        \n",
    "        self.trainable_variables = [self.NNs[i].trainable_variables\n",
    "                                    for i in range(self.N_e)]\n",
    "    \n",
    "    def get_fvals(self):\n",
    "\n",
    "        # Initilize lists for values and derivatives\n",
    "        u = []\n",
    "        u1x = []\n",
    "        u2x = []\n",
    "        \n",
    "        with tf.GradientTape(persistent=True) as tape:\n",
    "            # Watch variables representing t and x during this GradientTape\n",
    "            tape.watch(self.x)\n",
    "            \n",
    "            # Compute current values u(t,x)\n",
    "            u = []\n",
    "            for i in range(self.N_e):\n",
    "                u.append(self.NNs[i](self.x[i]))\n",
    "                u1x.append(tape.gradient(u[i], self.x[i]))\n",
    "                \n",
    "        for i in range(self.N_e):\n",
    "            u2x.append(tape.gradient(u1x[i], self.x[i]))\n",
    "        \n",
    "        del tape\n",
    "\n",
    "        return u, u1x, u2x\n",
    "    \n",
    "    def fun_r(self, u, u1x, u2x):\n",
    "        ret = []\n",
    "        for i in range(self.N_e):\n",
    "            ret.append(-u2x[i] + 1 * u[i] - 0.5)\n",
    "        return ret\n",
    "    \n",
    "    def loss_fn(self):\n",
    "        # Get values of functions and derivatives\n",
    "        u, u1x, u2x = self.get_fvals()\n",
    "        \n",
    "        # Compute phi_r\n",
    "        r = self.fun_r(u, u1x, u2x)\n",
    "        phi_r = tf.reduce_mean(tf.square(r))\n",
    "\n",
    "        # Initialize loss\n",
    "        loss = phi_r\n",
    "        \n",
    "        \n",
    "        # Values equal in center node\n",
    "        loss += tf.reduce_mean(tf.square(u[0][0]-u[1][0]))\n",
    "        loss += tf.reduce_mean(tf.square(u[0][0]-u[2][0]))\n",
    "        loss += tf.reduce_mean(tf.square(u[1][0]-u[2][0]))\n",
    "        \n",
    "        \n",
    "        # Kirchhoff-Neumann condition\n",
    "        loss += tf.reduce_mean(tf.square(u1x[0][0] + u1x[1][0] + u1x[2][0]))\n",
    "        \n",
    "        # Multiple leaves are Dirichlet nodes\n",
    "        loss += tf.reduce_mean(tf.square(u[0][-1]-0.0))\n",
    "        #loss += tf.reduce_mean(tf.square(u[1][-1]-1.0))\n",
    "        #loss += tf.reduce_mean(tf.square(u[2][-1]-2.0))\n",
    "\n",
    "\n",
    "\n",
    "        #for i in range(self.N_e):    \n",
    "            #loss += tf.reduce_mean(tf.square(u[i]))\n",
    "\n",
    "        return loss\n",
    "    \n",
    "    def get_grad(self):\n",
    "        with tf.GradientTape(persistent=True) as tape:\n",
    "            # This tape is for derivatives with\n",
    "            # respect to trainable variables\n",
    "            tape.watch(self.trainable_variables)\n",
    "            loss = self.loss_fn()\n",
    "\n",
    "        g = tape.gradient(loss, self.trainable_variables)\n",
    "        del tape\n",
    "\n",
    "        return loss, g\n",
    "    \n",
    "    \n",
    "    def solve_with_TFoptimizer(self, optimizer, N=1001):\n",
    "        \"\"\"This method performs a gradient descent type optimization.\"\"\"\n",
    "\n",
    "        for i in range(N):\n",
    "            loss, g = self.get_grad()\n",
    "\n",
    "            # Perform gradient descent step\n",
    "            for j in range(self.N_e):\n",
    "                optimizer.apply_gradients(zip(g[j], self.trainable_variables[j]))\n",
    "\n",
    "            self.current_loss = loss.numpy()\n",
    "            self.callback()\n",
    "            \n",
    "\n",
    "    def solve_with_ScipyOptimizer(self, method='L-BFGS-B', **kwargs):\n",
    "        \"\"\"This method provides an interface to solve the learning problem\n",
    "        using a routine from scipy.optimize.minimize.\n",
    "        (Tensorflow 1.xx had an interface implemented, which is not longer\n",
    "        supported in Tensorflow 2.xx.)\n",
    "        Type conversion is necessary since scipy-routines are written in\n",
    "        Fortran which requires 64-bit floats instead of 32-bit floats.\"\"\"\n",
    "\n",
    "        def get_weight_tensor():\n",
    "            \"\"\"Function to return current variables of the model\n",
    "            as 1d tensor as well as corresponding shapes as lists.\"\"\"\n",
    "\n",
    "            weight_list = []\n",
    "            shape_list = []\n",
    "\n",
    "            # Loop over all variables, i.e. weight matrices, bias vectors\n",
    "            # and unknown parameters\n",
    "            for i in range(self.N_e):\n",
    "                for v in self.NNs[i].variables:\n",
    "                    shape_list.append(v.shape)\n",
    "                    weight_list.extend(v.numpy().flatten())\n",
    "\n",
    "            weight_list = tf.convert_to_tensor(weight_list)\n",
    "            return weight_list, shape_list\n",
    "\n",
    "        x0, shape_list = get_weight_tensor()\n",
    "\n",
    "        def set_weight_tensor(weight_list):\n",
    "            \"\"\"Function which sets list of weights\n",
    "            to variables in the model.\"\"\"\n",
    "            idx = 0\n",
    "            for i in range(self.N_e):\n",
    "                for v in self.NNs[i].variables:\n",
    "                    vs = v.shape\n",
    "\n",
    "                    # Weight matrices\n",
    "                    if len(vs) == 2:\n",
    "                        sw = vs[0] * vs[1]\n",
    "                        new_val = tf.reshape(\n",
    "                            weight_list[idx:idx + sw], (vs[0], vs[1]))\n",
    "                        idx += sw\n",
    "\n",
    "                    # Bias vectors\n",
    "                    elif len(vs) == 1:\n",
    "                        new_val = weight_list[idx:idx+vs[0]]\n",
    "                        idx += vs[0]\n",
    "\n",
    "                    # Variables (in case of parameter identification setting)\n",
    "                    elif len(vs) == 0:\n",
    "                        new_val = weight_list[idx]\n",
    "                        idx += 1\n",
    "\n",
    "                    # Assign variables (Casting necessary since scipy requires float64 type)\n",
    "                    v.assign(tf.cast(new_val, tf.float32))\n",
    "\n",
    "        def get_loss_and_grad(w):\n",
    "            \"\"\"Function that provides current loss and gradient\n",
    "            w.r.t the trainable variables as vector. This is mandatory\n",
    "            for the LBFGS minimizer from tfp.optimizer.\"\"\"\n",
    "\n",
    "            # Update weights in model\n",
    "            set_weight_tensor(w)\n",
    "            # Determine value of \\phi and gradient w.r.t. \\theta at w\n",
    "            loss, grad = self.get_grad()\n",
    "\n",
    "            # Flatten gradient\n",
    "            grad_flat = []\n",
    "            for i in range(self.N_e):\n",
    "                for g in grad[i]:\n",
    "                    grad_flat.extend(g.numpy().flatten())\n",
    "\n",
    "            # Store current loss for callback function\n",
    "            self.current_loss = loss\n",
    "\n",
    "            # Return value and gradient of \\phi as tuple\n",
    "            return loss.numpy().astype(np.float64), np.array(grad_flat, dtype=np.float64)\n",
    "\n",
    "        return scipy.optimize.minimize(fun=get_loss_and_grad,\n",
    "                                       x0=x0,\n",
    "                                       jac=True,\n",
    "                                       method=method,\n",
    "                                       callback=self.callback,\n",
    "                                       **kwargs)\n",
    "\n",
    "            \n",
    "    \n",
    "    def callback(self, xr=None):\n",
    "        if self.iter % 50 == 0:\n",
    "            print('It {:05d}: loss = {:10.8e}'.format(\n",
    "                self.iter, self.current_loss))\n",
    "        self.hist.append(self.current_loss)\n",
    "        self.iter += 1\n",
    "        \n",
    "\n",
    "    def plot_loss_history(self, ax=None):\n",
    "        if not ax:\n",
    "            fig = plt.figure(figsize=(7, 5))\n",
    "            ax = fig.add_subplot(111)\n",
    "        ax.semilogy(range(len(self.hist)), self.hist, 'k-')\n",
    "        ax.set_xlabel('$n_{epoch}$')\n",
    "        ax.set_ylabel('$\\\\phi^{n_{epoch}}$')\n",
    "        return ax"
   ]
  },
  {
   "cell_type": "code",
   "execution_count": 154,
   "metadata": {},
   "outputs": [
    {
     "name": "stdout",
     "output_type": "stream",
     "text": [
      "WARNING:tensorflow:Calling GradientTape.gradient on a persistent tape inside its context is significantly less efficient than calling it outside the context (it causes the gradient ops to be recorded on the tape, leading to increased CPU and memory usage). Only call GradientTape.gradient inside the context if you actually want to trace the gradient in order to compute higher order derivatives.\n",
      "Start with TF optimizer\n",
      "\n",
      "It 00000: loss = 9.50565696e-01\n",
      "It 00050: loss = 9.25096683e-03\n",
      "It 00100: loss = 3.67817585e-04\n",
      "It 00150: loss = 1.21106466e-04\n",
      "It 00200: loss = 7.63317148e-05\n",
      "End with L-BFGS-B algorithm\n",
      "It 00250: loss = 1.23197578e-05\n",
      "It 00300: loss = 3.14588988e-06\n",
      "It 00350: loss = 2.10346548e-06\n",
      "It 00400: loss = 1.12393616e-06\n"
     ]
    },
    {
     "data": {
      "text/plain": [
       "      fun: 1.029252644002554e-06\n",
       " hess_inv: <9003x9003 LbfgsInvHessProduct with dtype=float64>\n",
       "      jac: array([ 4.51535743e-06,  4.26602855e-06, -5.21711900e-06, ...,\n",
       "        4.74521403e-05,  5.93751574e-05,  1.05363462e-04])\n",
       "  message: b'CONVERGENCE: REL_REDUCTION_OF_F_<=_FACTR*EPSMCH'\n",
       "     nfev: 234\n",
       "      nit: 211\n",
       "   status: 0\n",
       "  success: True\n",
       "        x: array([0.15590597, 0.26276336, 0.40070489, ..., 0.41042482, 0.43992706,\n",
       "       0.00131107])"
      ]
     },
     "execution_count": 154,
     "metadata": {},
     "output_type": "execute_result"
    }
   ],
   "source": [
    "pinn = PINNSolver(NNs, N_r=N_r)\n",
    "#pinn.loss_fn()\n",
    "loss, grad=pinn.get_grad()\n",
    "# Solve with Adam optimizer\n",
    "lr = 0.01\n",
    "optim = tf.keras.optimizers.Adam(learning_rate=lr)\n",
    "print('Start with TF optimizer\\n')\n",
    "pinn.solve_with_TFoptimizer(optim, N=201)\n",
    "print('End with L-BFGS-B algorithm')\n",
    "pinn.solve_with_ScipyOptimizer()"
   ]
  },
  {
   "cell_type": "markdown",
   "metadata": {},
   "source": [
    "Next, we try to plot the results."
   ]
  },
  {
   "cell_type": "code",
   "execution_count": 155,
   "metadata": {},
   "outputs": [
    {
     "data": {
      "image/png": "[encoded data removed]",
      "text/plain": [
       "<Figure size 648x432 with 1 Axes>"
      ]
     },
     "metadata": {
      "needs_background": "light"
     },
     "output_type": "display_data"
    }
   ],
   "source": [
    "%matplotlib inline\n",
    "fig = plt.figure(figsize=(9, 6))\n",
    "ax = fig.add_subplot(111, projection='3d')\n",
    "N = 20\n",
    "lmbd = tf.linspace(lb[0], ub[0], N + 1)\n",
    "Lmbd = tf.reshape(lmbd, [-1, 1])\n",
    "\n",
    "for i, e in enumerate(E):\n",
    "    xy = V[e[0].numpy()]+Lmbd*(V[e[1].numpy()]-V[e[0].numpy()])\n",
    "    u = pinn.NNs[i](Lmbd)\n",
    "    unum = u.numpy().flatten()\n",
    "    ax.plot(xy[:,0], xy[:,1], unum)\n",
    "    \n",
    "ax.set_xlabel('$x$')\n",
    "ax.set_ylabel('$y$')\n",
    "#ax.set_zlabel('$u_\\\\theta(x,y)$')\n",
    "ax.view_init(10, 35)"
   ]
  },
  {
   "cell_type": "markdown",
   "metadata": {},
   "source": [
    "## 2. Solve easy instationary equation"
   ]
  },
  {
   "cell_type": "code",
   "execution_count": null,
   "metadata": {},
   "outputs": [],
   "source": []
  }
 ],
 "metadata": {
  "kernelspec": {
   "display_name": "Python 3",
   "language": "python",
   "name": "python3"
  },
  "language_info": {
   "codemirror_mode": {
    "name": "ipython",
    "version": 3
   },
   "file_extension": ".py",
   "mimetype": "text/x-python",
   "name": "python",
   "nbconvert_exporter": "python",
   "pygments_lexer": "ipython3",
   "version": "3.7.10"
  }
 },
 "nbformat": 4,
 "nbformat_minor": 4
}
