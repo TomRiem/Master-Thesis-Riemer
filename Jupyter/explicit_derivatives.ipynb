{
 "cells": [
  {
   "cell_type": "markdown",
   "id": "7417d936",
   "metadata": {},
   "source": [
    "# First and second derivative of FNN with respect to input"
   ]
  },
  {
   "cell_type": "markdown",
   "id": "bb90e9a5",
   "metadata": {},
   "source": [
    "Import necessary packages."
   ]
  },
  {
   "cell_type": "code",
   "execution_count": 6,
   "id": "a899b99a",
   "metadata": {},
   "outputs": [],
   "source": [
    "import tensorflow as tf\n",
    "import numpy as np"
   ]
  },
  {
   "cell_type": "markdown",
   "id": "af12c0bb",
   "metadata": {},
   "source": [
    "Define activation function and its derivatives."
   ]
  },
  {
   "cell_type": "code",
   "execution_count": 7,
   "id": "b05776f3",
   "metadata": {},
   "outputs": [],
   "source": [
    "# Custom activation function\n",
    "from keras.layers import Activation\n",
    "from keras import backend as K\n",
    "from keras.utils.generic_utils import get_custom_objects\n",
    "\n",
    "#def mσ(x):\n",
    "    #return np.abs(x) + np.log(1. + np.exp(-2. * np.abs(x)))\n",
    "    \n",
    "def mσ(x):\n",
    "    return np.divide(1, 1 + np.exp(np.negative(x)))\n",
    "\n",
    "get_custom_objects().update({'custom_activation': Activation(mσ)})\n"
   ]
  },
  {
   "cell_type": "code",
   "execution_count": 8,
   "id": "babdbb0d",
   "metadata": {},
   "outputs": [],
   "source": [
    "#def mdσ(x):\n",
    "    #return np.tanh(x)\n",
    "    \n",
    "    \n",
    "#def md2σ(x):\n",
    "    #return np.divide(1., np.square(np.cosh(x)))\n",
    "\n",
    "def mdσ(x):\n",
    "    return mσ(x) * (1 - mσ(x))\n",
    "    \n",
    "    \n",
    "def md2σ(x):\n",
    "    return mσ(x) * (1 - mσ(x)) * (1 - 2*mσ(x))"
   ]
  },
  {
   "cell_type": "code",
   "execution_count": 9,
   "id": "9dfa6983",
   "metadata": {
    "scrolled": true
   },
   "outputs": [
    {
     "name": "stdout",
     "output_type": "stream",
     "text": [
      "[[0.9999546]\n",
      " [1.       ]\n",
      " [1.       ]]\n",
      "tf.Tensor(\n",
      "[[0.9999546]\n",
      " [1.       ]\n",
      " [1.       ]], shape=(3, 1), dtype=float32)\n",
      "[[4.53958077e-05]\n",
      " [2.06115369e-09]\n",
      " [9.34807787e-14]]\n",
      "[[-4.53916860e-05]\n",
      " [-2.06115368e-09]\n",
      " [-9.34807787e-14]]\n"
     ]
    }
   ],
   "source": [
    "x = [[10.], [20.], [30.]]\n",
    "\n",
    "print(mσ(x))\n",
    "print(tf.keras.activations.sigmoid(x))\n",
    "print(mdσ(x))\n",
    "print(md2σ(x))"
   ]
  },
  {
   "cell_type": "markdown",
   "id": "6ac5b1e1",
   "metadata": {},
   "source": [
    "Does not exactly match the results/values in Julia."
   ]
  },
  {
   "cell_type": "markdown",
   "id": "be001141",
   "metadata": {},
   "source": [
    "Define Neural Network."
   ]
  },
  {
   "cell_type": "code",
   "execution_count": 10,
   "id": "1d7700d7",
   "metadata": {},
   "outputs": [],
   "source": [
    "# Define model architecture\n",
    "class PINN(tf.keras.Model):\n",
    "    \"\"\" Set basic architecture of the PINN model.\"\"\"\n",
    "\n",
    "    def __init__(self,\n",
    "                 output_dim=1,\n",
    "                 num_hidden_layers=3,\n",
    "                 num_neurons_per_layer=20,\n",
    "                 activationfunction = 'sigmoid',\n",
    "                 kernel_initializer='glorot_normal',\n",
    "                 **kwargs):\n",
    "        \n",
    "        super().__init__(**kwargs)\n",
    "\n",
    "        self.num_hidden_layers = num_hidden_layers\n",
    "        self.input_dim = 2\n",
    "        self.output_dim = output_dim\n",
    "\n",
    "        # Define NN architecture\n",
    "        \n",
    "        # Inititialize num_hidden_layers many fully connected dense layers\n",
    "        self.hidden = [tf.keras.layers.Dense(num_neurons_per_layer,\n",
    "                                             activation = activationfunction,\n",
    "                                             kernel_initializer=kernel_initializer) for _ in range(self.num_hidden_layers)]\n",
    "        \n",
    "        # Output layer\n",
    "        #self.out = tf.keras.layers.Dense(output_dim, activation=None)\n",
    "        self.out = tf.keras.layers.Dense(output_dim, activation = activationfunction)\n",
    "        \n",
    "    def call(self, X):\n",
    "        \"\"\"Forward-pass through neural network.\"\"\"\n",
    "        self.tmp_layer_output = []\n",
    "        #Z = self.scale(X)\n",
    "        Z = X\n",
    "        self.tmp_layer_output.append(Z)\n",
    "        \n",
    "        for i in range(self.num_hidden_layers):\n",
    "            Z = self.hidden[i](Z)\n",
    "            self.tmp_layer_output.append(Z)\n",
    "            \n",
    "        return self.out(Z)"
   ]
  },
  {
   "cell_type": "markdown",
   "id": "b88587d9",
   "metadata": {},
   "source": [
    "Compute gradient."
   ]
  },
  {
   "cell_type": "markdown",
   "id": "78803620",
   "metadata": {},
   "source": [
    "Compute gradient for layer l."
   ]
  },
  {
   "cell_type": "code",
   "execution_count": 11,
   "id": "9fd5f168",
   "metadata": {},
   "outputs": [],
   "source": [
    "def get_gradient_layer(W,b,a,δ):\n",
    "    z1 = np.transpose(a @ W)  \n",
    "    b = np.reshape(b, np.shape(z1))\n",
    "    z2 = z1 + b\n",
    "    z3 = np.diag(mdσ(z2).flatten('F')) @ δ\n",
    "    \n",
    "    return W @ z3"
   ]
  },
  {
   "cell_type": "markdown",
   "id": "2fb197a1",
   "metadata": {},
   "source": [
    "Compute gradient of neural network."
   ]
  },
  {
   "cell_type": "code",
   "execution_count": 12,
   "id": "6b270783",
   "metadata": {},
   "outputs": [],
   "source": [
    "def get_gradient(N):\n",
    "    δ = get_gradient_layer(N.out.get_weights()[0], N.out.get_weights()[1], N.tmp_layer_output[-1], np.identity(N.output_dim))\n",
    "\n",
    "    for k in range(N.num_hidden_layers-1, -1, -1):\n",
    "        δ = get_gradient_layer(N.hidden[k].get_weights()[0], N.hidden[k].get_weights()[1], N.tmp_layer_output[k], δ)\n",
    "            \n",
    "    return δ"
   ]
  },
  {
   "cell_type": "markdown",
   "id": "6ba635ba",
   "metadata": {},
   "source": [
    "Compute gradient and Hessian of last layer."
   ]
  },
  {
   "cell_type": "code",
   "execution_count": 13,
   "id": "798f579a",
   "metadata": {},
   "outputs": [],
   "source": [
    "def get_gradient_hessian_last_layer(W,b,a,δ):\n",
    "    z1 = np.transpose(a @ W)  \n",
    "    b = np.reshape(b, np.shape(z1))\n",
    "    z2 = z1 + b\n",
    "    z3 = np.diag(mdσ(z2).flatten('F')) @ δ\n",
    "    \n",
    "    ϑ = np.diag(md2σ(z2).flatten('F'))\n",
    "    \n",
    "    return W @ z3, W @ ϑ @ np.transpose(W)"
   ]
  },
  {
   "cell_type": "markdown",
   "id": "81d8133f",
   "metadata": {},
   "source": [
    "Compute gradient and Hessian of hidden layer."
   ]
  },
  {
   "cell_type": "code",
   "execution_count": 14,
   "id": "30fc6be9",
   "metadata": {},
   "outputs": [],
   "source": [
    "def get_gradient_hessian_hidden_layer(W,b,a,δ,ϑ):\n",
    "    z1 = np.transpose(a @ W)  \n",
    "    b = np.reshape(b, np.shape(z1))\n",
    "    z2 = z1 + b\n",
    "    z3 = np.diag(mdσ(z2).flatten('F')) @ δ\n",
    "    \n",
    "    t2 = δ * md2σ(z2)\n",
    "    H1 = W @ np.diag(t2.flatten('F')) @ np.transpose(W)\n",
    "\n",
    "    dσt = np.diag(mdσ(z2).flatten('F'))\n",
    "    H2 = W @ dσt @ ϑ @ dσt @ np.transpose(W)\n",
    "    \n",
    "    return W @ z3, H1+H2"
   ]
  },
  {
   "cell_type": "markdown",
   "id": "cab18966",
   "metadata": {},
   "source": [
    "Compute Hessian and gradient of neural network."
   ]
  },
  {
   "cell_type": "code",
   "execution_count": 15,
   "id": "d5ad2bc0",
   "metadata": {},
   "outputs": [],
   "source": [
    "def get_hessian(N):\n",
    "    δ,ϑ = get_gradient_hessian_last_layer(N.out.get_weights()[0], N.out.get_weights()[1], N.tmp_layer_output[-1], np.identity(N.output_dim))\n",
    "\n",
    "    for k in range(N.num_hidden_layers-1, -1, -1):\n",
    "        δ,ϑ = get_gradient_hessian_hidden_layer(N.hidden[k].get_weights()[0], N.hidden[k].get_weights()[1], N.tmp_layer_output[k], δ,  ϑ)\n",
    "            \n",
    "    return δ,ϑ"
   ]
  },
  {
   "cell_type": "markdown",
   "id": "e5129b90",
   "metadata": {},
   "source": [
    "Why do we get a 2D vector when we insert a 2D vector?"
   ]
  },
  {
   "cell_type": "code",
   "execution_count": 17,
   "id": "11139e62",
   "metadata": {
    "scrolled": true
   },
   "outputs": [
    {
     "name": "stdout",
     "output_type": "stream",
     "text": [
      "[-0.00064247]\n"
     ]
    }
   ],
   "source": [
    "NeuralN = PINN()\n",
    "\n",
    "x = tf.random.normal((1,2))\n",
    "\n",
    "out = NeuralN(x)\n",
    "#print(out)\n",
    "\n",
    "δ1 = get_gradient(NeuralN)\n",
    "δ2,ϑ = get_hessian(NeuralN)\n",
    "\n",
    "#print(δ1- δ2)\n",
    "print(δ1[0])\n",
    "#print(ϑ.flatten())"
   ]
  },
  {
   "cell_type": "markdown",
   "id": "3e510d2f",
   "metadata": {},
   "source": [
    "-> We need to choose appropriate dtypes so that no operation overflows."
   ]
  },
  {
   "cell_type": "code",
   "execution_count": 65,
   "id": "9c00e4e5",
   "metadata": {},
   "outputs": [],
   "source": [
    "def _fvals1(N, x):\n",
    "\n",
    "    with tf.GradientTape() as g:\n",
    "        g.watch(x)\n",
    "        y = N(x)\n",
    "\n",
    "    dy_dx = g.gradient(y, x)\n",
    "    dy_dx = np.transpose(dy_dx.numpy())\n",
    "\n",
    "    return y, dy_dx"
   ]
  },
  {
   "cell_type": "code",
   "execution_count": 77,
   "id": "b017a518",
   "metadata": {},
   "outputs": [
    {
     "name": "stdout",
     "output_type": "stream",
     "text": [
      "0.0\n",
      "2.6298727127480224e-10\n",
      "2.6298727127480224e-10\n",
      "0.0\n",
      "3.3562938762482747e-10\n",
      "3.3562938762482747e-10\n",
      "0.0\n",
      "2.1419320650816824e-10\n",
      "2.1419320650816824e-10\n",
      "0.0\n",
      "5.22060319568717e-10\n",
      "5.22060319568717e-10\n",
      "0.0\n",
      "2.1725449307957873e-10\n",
      "2.1725449307957873e-10\n"
     ]
    }
   ],
   "source": [
    "for i in range(5):\n",
    "    x = tf.random.normal((1,2))\n",
    "    NeuralN = PINN()\n",
    "    out = NeuralN(x)\n",
    "    δ1 = get_gradient(NeuralN)\n",
    "    δ2,ϑ = get_hessian(NeuralN)\n",
    "    δ_ad = _fvals1(NeuralN, x)[1]\n",
    "    print(np.linalg.norm(δ1-δ2))\n",
    "    print(np.linalg.norm(δ1-δ_ad))\n",
    "    print(np.linalg.norm(δ2-δ_ad))"
   ]
  },
  {
   "cell_type": "code",
   "execution_count": 74,
   "id": "e968d807",
   "metadata": {},
   "outputs": [],
   "source": [
    "def _fvals2(N, x):\n",
    "\n",
    "    with tf.GradientTape(persistent=True) as h:\n",
    "        h.watch(x)\n",
    "        with tf.GradientTape() as g:\n",
    "            g.watch(x)\n",
    "            y = N(x)\n",
    "\n",
    "        dy_dx = g.gradient(y, x)\n",
    "    \n",
    "    d2y_d2x = h.jacobian(dy_dx, x)\n",
    "\n",
    "    return y, dy_dx, d2y_d2x"
   ]
  },
  {
   "cell_type": "code",
   "execution_count": 76,
   "id": "109ef374",
   "metadata": {},
   "outputs": [
    {
     "name": "stdout",
     "output_type": "stream",
     "text": [
      "1.371252004929155e-10\n",
      "3.320767119679139e-11\n",
      "5.251550248990219e-11\n",
      "5.399013063872698e-11\n",
      "1.2327571379609016e-10\n"
     ]
    }
   ],
   "source": [
    "for i in range(5):\n",
    "    x = tf.random.normal((1,2))\n",
    "    NeuralN = PINN()\n",
    "    out = NeuralN(x)\n",
    "    δ,ϑ = get_hessian(NeuralN)\n",
    "    ϑ = ϑ.flatten()\n",
    "    ϑ_ad = _fvals2(NeuralN, x)[2].numpy().flatten()\n",
    "    print(np.linalg.norm(ϑ-ϑ_ad))"
   ]
  },
  {
   "cell_type": "markdown",
   "id": "fcffbf82",
   "metadata": {},
   "source": [
    "Maybe gradient tape thinks that the neural network is not differentiable?"
   ]
  },
  {
   "cell_type": "markdown",
   "id": "3b9f4fec",
   "metadata": {},
   "source": [
    "# Explicit derivatives of ResNet"
   ]
  },
  {
   "cell_type": "markdown",
   "id": "fde3e683",
   "metadata": {},
   "source": [
    "Here we only approximate the \"half\" gradient so far. "
   ]
  },
  {
   "cell_type": "code",
   "execution_count": 194,
   "id": "8a110916",
   "metadata": {},
   "outputs": [],
   "source": [
    "class PINN_ResNet(tf.keras.Model):\n",
    "    \"\"\" Set basic architecture of the PINN model.\"\"\"\n",
    "\n",
    "    def __init__(self,\n",
    "                 ResNetLayers=3,\n",
    "                 ResNetNeurons=16,\n",
    "                 ResNetStepsize=1.0,\n",
    "                 ResNetActivation='sigmoid',\n",
    "                 **kwargs):\n",
    "        \n",
    "        super(PINN_ResNet, self).__init__(**kwargs)\n",
    "        \n",
    "        #RNact = tf.keras.activations.get(ResNetActivation)\n",
    "        #RNact = my_act\n",
    "        RNact = ResNetActivation\n",
    "        \n",
    "\n",
    "        \n",
    "        self.ResNetLayers = ResNetLayers\n",
    "        self.ResNetStepsize = ResNetStepsize\n",
    "\n",
    "        self.ResNet = [tf.keras.layers.Dense(ResNetNeurons,\n",
    "                                        activation = RNact) for _ in range(self.ResNetLayers)]\n",
    "        self.wb = tf.keras.layers.Dense(1)\n",
    "        self.A = tf.keras.layers.Dense(2, use_bias=False)\n",
    "        self.c = tf.keras.layers.Dense(1, use_bias=False)\n",
    "        \n",
    "        #self.num_hidden_layers = num_hidden_layers\n",
    "        self.input_dim = 2\n",
    "        self.output_dim = 1\n",
    "\n",
    "\n",
    "        # Define NN architecture\n",
    "        \n",
    "        # Output layer\n",
    "        #self.out = tf.keras.layers.Dense(1, activation='sigmoid')\n",
    "\n",
    "        \n",
    "    def call(self, input_tensor, training=False):\n",
    "        \"\"\"Forward-pass through neural network.\"\"\"\n",
    "        \n",
    "        self.tmp_layer_output = [input_tensor]\n",
    "        \n",
    "        N = self.ResNet[0](input_tensor, training=training)\n",
    "        \n",
    "        for i in range(1, self.ResNetLayers):\n",
    "            self.tmp_layer_output.append(N)\n",
    "            N = N + self.ResNetStepsize * self.ResNet[i](N, training=training)\n",
    "        \n",
    "        Phi = self.wb(N, training=training)\n",
    "\n",
    "#         As = self.A(input_tensor, training=training)\n",
    "#         sAs = tf.keras.layers.Dot(axes=(1))([input_tensor, As])\n",
    "#         Phi += .5 * sAs\n",
    "#         Phi += self.c(input_tensor, training=training)\n",
    "            \n",
    "        return Phi"
   ]
  },
  {
   "cell_type": "markdown",
   "id": "0e957d02",
   "metadata": {},
   "source": [
    "Gradient of model, which approximates solution of pde"
   ]
  },
  {
   "cell_type": "code",
   "execution_count": 196,
   "id": "06b6137d",
   "metadata": {},
   "outputs": [],
   "source": [
    "def get_gradient_ResNet(R):\n",
    "    δ = get_gradient_layer(R.ResNet[-1].get_weights()[0], R.ResNet[-1].get_weights()[1], R.tmp_layer_output[-1], R.wb.get_weights()[0])\n",
    "\n",
    "    δ = R.wb.get_weights()[0] + R.ResNetStepsize * δ\n",
    " \n",
    "    for k in range(R.ResNetLayers-2, 0, -1):\n",
    "        δ = δ + R.ResNetStepsize * get_gradient_layer(R.ResNet[k].get_weights()[0], R.ResNet[k].get_weights()[1], R.tmp_layer_output[k], δ)\n",
    "          \n",
    "    \n",
    "    δ = get_gradient_layer(R.ResNet[0].get_weights()[0], R.ResNet[0].get_weights()[1], R.tmp_layer_output[0], δ)\n",
    "    \n",
    "    #return δ + np.transpose(R.A(R.tmp_layer_output[0]).numpy()) + R.c.get_weights()[0]\n",
    "    return δ "
   ]
  },
  {
   "cell_type": "markdown",
   "id": "3fd12371",
   "metadata": {},
   "source": [
    "Something is wrong with the 'whole' gradient?"
   ]
  },
  {
   "cell_type": "code",
   "execution_count": 206,
   "id": "e05e73c7",
   "metadata": {
    "scrolled": false
   },
   "outputs": [
    {
     "name": "stdout",
     "output_type": "stream",
     "text": [
      "[[0.05509138]\n",
      " [0.00944144]]\n",
      "[[0.05509139]\n",
      " [0.00944147]]\n",
      "2.3338877e-08\n"
     ]
    }
   ],
   "source": [
    "Resnet = PINN_ResNet()\n",
    "\n",
    "x = tf.constant([[1., 10.]])\n",
    "\n",
    "out = Resnet(x)\n",
    "\n",
    "δ = get_gradient_ResNet(Resnet)\n",
    "\n",
    "print(δ)\n",
    "\n",
    "δ_ad = _fvals1(Resnet, x)\n",
    "\n",
    "print(δ_ad[1])\n",
    "\n",
    "print(np.linalg.norm(δ - δ_ad[1]))"
   ]
  },
  {
   "cell_type": "code",
   "execution_count": 207,
   "id": "0e35744b",
   "metadata": {},
   "outputs": [
    {
     "name": "stdout",
     "output_type": "stream",
     "text": [
      "1.6660005e-08\n",
      "1.4901161e-08\n",
      "1.5359765e-08\n",
      "8.3300025e-09\n",
      "1.1175871e-08\n"
     ]
    }
   ],
   "source": [
    "for i in range(5):\n",
    "    x = tf.random.normal((1,2))\n",
    "    Resnet = PINN_ResNet()\n",
    "    out = Resnet(x)\n",
    "    δ1 = get_gradient_ResNet(Resnet)\n",
    "    δ_ad = _fvals1(Resnet, x)[1]\n",
    "    print(np.linalg.norm(δ1-δ_ad))"
   ]
  },
  {
   "cell_type": "code",
   "execution_count": 208,
   "id": "b0d14a8e",
   "metadata": {},
   "outputs": [],
   "source": [
    "def get_gradient_hessian_layer_ResNet(W,b,a,δ):\n",
    "    z1 = np.transpose(a @ W)  \n",
    "    b = np.reshape(b, np.shape(z1))\n",
    "    z2 = z1 + b\n",
    "    z3 = np.diag(mdσ(z2).flatten('F')) @ δ\n",
    "    \n",
    "    z4 = md2σ(z2) * δ\n",
    "    ϑ = np.diag(z4.flatten('F'))\n",
    "    \n",
    "    return W @ z3, W @ ϑ @ np.transpose(W)"
   ]
  },
  {
   "cell_type": "code",
   "execution_count": 209,
   "id": "600c9355",
   "metadata": {},
   "outputs": [],
   "source": [
    "def get_hessian_ResNet(R):\n",
    "    δ,ϑ = get_gradient_hessian_layer_ResNet(R.ResNet[-1].get_weights()[0], R.ResNet[-1].get_weights()[1], R.tmp_layer_output[-1], R.wb.get_weights()[0])\n",
    "\n",
    "    δ = R.wb.get_weights()[0] + R.ResNetStepsize * δ\n",
    " \n",
    "    for k in range(R.ResNetLayers-2, 0, -1):\n",
    "        δ_new, ϑ_new_1 = get_gradient_hessian_layer_ResNet(R.ResNet[k].get_weights()[0], R.ResNet[k].get_weights()[1], R.tmp_layer_output[k], δ)\n",
    "        z1 = np.transpose(R.tmp_layer_output[k] @ R.ResNet[k].get_weights()[0])  \n",
    "        b = np.reshape(R.ResNet[k].get_weights()[1], np.shape(z1))\n",
    "        z2 = z1 + b\n",
    "        t1 = ϑ + R.ResNetStepsize * R.ResNet[k].get_weights()[0] @ ( np.diag(mdσ(z2).flatten('F')) @ ϑ)\n",
    "        ϑ_new_2 = np.transpose(t1) + R.ResNetStepsize * R.ResNet[k].get_weights()[0] @ ( np.diag(mdσ(z2).flatten('F')) @ np.transpose(t1))\n",
    "        ϑ = ϑ_new_1 + ϑ_new_2\n",
    "        δ = δ + R.ResNetStepsize * δ_new\n",
    "    \n",
    "      \n",
    "    δ, ϑ = get_gradient_hessian_hidden_layer(R.ResNet[0].get_weights()[0], R.ResNet[0].get_weights()[1], R.tmp_layer_output[0], δ, ϑ)\n",
    "    \n",
    "    #return δ + np.transpose(R.A(R.tmp_layer_output[0]).numpy()) + R.c.get_weights()[0], ϑ + np.transpose(R.A.get_weights()[0])\n",
    "    return δ, ϑ"
   ]
  },
  {
   "cell_type": "code",
   "execution_count": 210,
   "id": "51c88154",
   "metadata": {},
   "outputs": [
    {
     "name": "stdout",
     "output_type": "stream",
     "text": [
      "2.1339281e-09\n",
      "4.586232e-09\n",
      "6.03566e-09\n",
      "3.7830503e-09\n",
      "4.274995e-09\n"
     ]
    }
   ],
   "source": [
    "for i in range(5):\n",
    "    x = tf.random.normal((1,2))\n",
    "    Resnet = PINN_ResNet()\n",
    "    out = Resnet(x)\n",
    "    δ,ϑ = get_hessian_ResNet(Resnet)\n",
    "    ϑ = ϑ.flatten()\n",
    "    ϑ_ad = _fvals2(Resnet, x)[2].numpy().flatten()\n",
    "    print(np.linalg.norm(ϑ-ϑ_ad))"
   ]
  },
  {
   "cell_type": "code",
   "execution_count": null,
   "id": "3eb30a95",
   "metadata": {},
   "outputs": [],
   "source": []
  }
 ],
 "metadata": {
  "kernelspec": {
   "display_name": "Python 3",
   "language": "python",
   "name": "python3"
  },
  "language_info": {
   "codemirror_mode": {
    "name": "ipython",
    "version": 3
   },
   "file_extension": ".py",
   "mimetype": "text/x-python",
   "name": "python",
   "nbconvert_exporter": "python",
   "pygments_lexer": "ipython3",
   "version": "3.8.8"
  }
 },
 "nbformat": 4,
 "nbformat_minor": 5
}
