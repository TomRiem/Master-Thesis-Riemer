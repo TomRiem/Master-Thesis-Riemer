{
 "cells": [
  {
   "cell_type": "markdown",
   "id": "7417d936",
   "metadata": {},
   "source": [
    "# First and second derivative of FNN with respect to input"
   ]
  },
  {
   "cell_type": "markdown",
   "id": "bb90e9a5",
   "metadata": {},
   "source": [
    "Import necessary packages."
   ]
  },
  {
   "cell_type": "code",
   "execution_count": 1,
   "id": "a899b99a",
   "metadata": {},
   "outputs": [],
   "source": [
    "import tensorflow as tf\n",
    "import numpy as np"
   ]
  },
  {
   "cell_type": "markdown",
   "id": "af12c0bb",
   "metadata": {},
   "source": [
    "Define activation function and its derivatives."
   ]
  },
  {
   "cell_type": "code",
   "execution_count": 3,
   "id": "babdbb0d",
   "metadata": {},
   "outputs": [],
   "source": [
    "def mσ(x):\n",
    "    return np.abs(x) + np.log(1. + np.exp(-2. * np.abs(x)))\n",
    "        \n",
    "        \n",
    "def mdσ(x):\n",
    "    return np.tanh(x)\n",
    "    \n",
    "    \n",
    "def md2σ(x):\n",
    "    return np.divide(1., np.square(np.cosh(x)))"
   ]
  },
  {
   "cell_type": "code",
   "execution_count": 5,
   "id": "9dfa6983",
   "metadata": {
    "scrolled": true
   },
   "outputs": [
    {
     "name": "stdout",
     "output_type": "stream",
     "text": [
      "[[10.]\n",
      " [20.]\n",
      " [30.]]\n",
      "[[1.]\n",
      " [1.]\n",
      " [1.]]\n",
      "[[8.24461446e-09]\n",
      " [1.69934170e-17]\n",
      " [3.50260431e-26]]\n"
     ]
    }
   ],
   "source": [
    "x = [[10], [20], [30]]\n",
    "\n",
    "print(mσ(x))\n",
    "print(mdσ(x))\n",
    "print(md2σ(x))"
   ]
  },
  {
   "cell_type": "markdown",
   "id": "6ac5b1e1",
   "metadata": {},
   "source": [
    "Does not exactly match the results/values in Julia."
   ]
  },
  {
   "cell_type": "code",
   "execution_count": 111,
   "id": "1d7700d7",
   "metadata": {},
   "outputs": [],
   "source": [
    "# Define model architecture\n",
    "class PINN(tf.keras.Model):\n",
    "    \"\"\" Set basic architecture of the PINN model.\"\"\"\n",
    "\n",
    "    def __init__(self,\n",
    "                 output_dim=1,\n",
    "                 num_hidden_layers=2,\n",
    "                 num_neurons_per_layer=20,\n",
    "                 activation= mσ,\n",
    "                 kernel_initializer='glorot_normal',\n",
    "                 **kwargs):\n",
    "        \n",
    "        super().__init__(**kwargs)\n",
    "\n",
    "        self.num_hidden_layers = num_hidden_layers\n",
    "        self.input_dim = 2\n",
    "        self.output_dim = output_dim\n",
    "\n",
    "        # Define NN architecture\n",
    "        \n",
    "        # Inititialize num_hidden_layers many fully connected dense layers\n",
    "        self.hidden = [tf.keras.layers.Dense(num_neurons_per_layer,\n",
    "                                             activation=tf.keras.activations.get(\n",
    "                                                 activation),\n",
    "                                             kernel_initializer=kernel_initializer) for _ in range(self.num_hidden_layers)]\n",
    "        \n",
    "        # Output layer\n",
    "        #self.out = tf.keras.layers.Dense(output_dim, activation=None)\n",
    "        self.out = tf.keras.layers.Dense(output_dim, activation= 'relu')\n",
    "        \n",
    "    def call(self, X):\n",
    "        \"\"\"Forward-pass through neural network.\"\"\"\n",
    "        self.tmp_layer_output = []\n",
    "        #Z = self.scale(X)\n",
    "        Z = X\n",
    "        self.tmp_layer_output.append(Z)\n",
    "        \n",
    "        for i in range(self.num_hidden_layers):\n",
    "            Z = self.hidden[i](Z)\n",
    "            self.tmp_layer_output.append(Z)\n",
    "            \n",
    "        return self.out(Z)"
   ]
  },
  {
   "cell_type": "code",
   "execution_count": 112,
   "id": "c9e04b62",
   "metadata": {},
   "outputs": [
    {
     "name": "stdout",
     "output_type": "stream",
     "text": [
      "0 1\n",
      "1 0\n"
     ]
    }
   ],
   "source": [
    "print(*range(2))\n",
    "print(*range(1, -1, -1))"
   ]
  },
  {
   "cell_type": "code",
   "execution_count": 113,
   "id": "6167f6fa",
   "metadata": {},
   "outputs": [
    {
     "data": {
      "text/plain": [
       "array([[1.]])"
      ]
     },
     "execution_count": 113,
     "metadata": {},
     "output_type": "execute_result"
    }
   ],
   "source": [
    "np.identity(1)"
   ]
  },
  {
   "cell_type": "code",
   "execution_count": 183,
   "id": "9fd5f168",
   "metadata": {},
   "outputs": [],
   "source": [
    "def getGradientLayer(W,b,a,δ):\n",
    "    z = W * a + b\n",
    "    return np.transpose(W) * np.diag(mdσ(z)) * δ"
   ]
  },
  {
   "cell_type": "code",
   "execution_count": 184,
   "id": "c849a7d0",
   "metadata": {},
   "outputs": [],
   "source": [
    "def getHessianLayer(N,dZ,S):\n",
    "    return 0"
   ]
  },
  {
   "cell_type": "code",
   "execution_count": 198,
   "id": "6b270783",
   "metadata": {},
   "outputs": [],
   "source": [
    "def getGradient(N):\n",
    "    δ = getGradientLayer(np.transpose(N.out.get_weights()[0]), np.transpose(N.out.get_weights()[1]), np.transpose(N.tmp_layer_output[-1]), np.identity(N.output_dim))\n",
    "\n",
    "    for k in range(N.num_hidden_layers-1, -1, -1):\n",
    "        print(k)\n",
    "        δ = getGradientLayer(np.transpose(N.hidden[k].get_weights()[0]), np.transpose(N.hidden[k].get_weights()[1]), np.transpose(N.tmp_layer_output[k]), δ)\n",
    "            \n",
    "    return δ"
   ]
  },
  {
   "cell_type": "code",
   "execution_count": 202,
   "id": "9f7e2c5e",
   "metadata": {},
   "outputs": [
    {
     "data": {
      "text/plain": [
       "array([[0.01605887, 0.21028356, 0.03174872, 0.12963378, 0.07756679,\n",
       "        0.08231225, 0.05210666, 0.10644778, 0.02187243, 0.07312769,\n",
       "        0.05808946, 0.10451157, 0.0043443 , 0.07834365, 0.03443375,\n",
       "        0.11356682, 0.25347713, 0.13811077, 0.01526956, 0.11613241]])"
      ]
     },
     "execution_count": 202,
     "metadata": {},
     "output_type": "execute_result"
    }
   ],
   "source": [
    "getGradientLayer(N.out.get_weights()[0], N.out.get_weights()[1],N.tmp_layer_output[-1], np.identity(N.output_dim))\n"
   ]
  },
  {
   "cell_type": "code",
   "execution_count": 199,
   "id": "d5ad2bc0",
   "metadata": {},
   "outputs": [],
   "source": [
    "def getHessian(N,dZ,S):\n",
    "    \n",
    "    return dZ"
   ]
  },
  {
   "cell_type": "code",
   "execution_count": 200,
   "id": "11139e62",
   "metadata": {},
   "outputs": [
    {
     "name": "stdout",
     "output_type": "stream",
     "text": [
      "1\n",
      "0\n"
     ]
    },
    {
     "data": {
      "text/plain": [
       "array([[ 3.42035935e-05, -4.73756582e-05, -9.45791215e-07,\n",
       "         1.31762953e-07, -5.98830346e-04, -3.67687987e-05,\n",
       "        -2.48874347e-04, -4.54944470e-06, -3.13744947e-04,\n",
       "        -6.31656816e-06,  5.80300783e-05, -4.70473227e-04,\n",
       "         6.02258226e-05, -1.23996642e-04, -2.82706514e-08,\n",
       "        -8.75652002e-04,  4.25682436e-05, -6.04502132e-07,\n",
       "        -1.70653429e-07, -1.92119307e-04],\n",
       "       [-1.99149748e-04,  1.74529487e-04,  1.77027965e-07,\n",
       "         1.26991253e-07,  2.11698392e-04,  6.67839125e-05,\n",
       "         4.84768403e-04,  7.80592387e-05,  2.09922977e-04,\n",
       "        -2.31588076e-05,  8.69165095e-04,  2.23716557e-04,\n",
       "        -2.87068067e-04,  6.73544975e-04,  7.88988208e-08,\n",
       "         3.99381446e-03, -1.08647301e-03, -4.76249296e-06,\n",
       "         8.64861819e-07,  5.04953713e-04],\n",
       "       [-3.65965544e-05, -2.85866874e-05,  3.35521484e-07,\n",
       "        -1.13851608e-07, -5.10904339e-04,  7.50254538e-05,\n",
       "         1.17958616e-04,  4.51716361e-05, -2.20613323e-04,\n",
       "        -7.31800680e-06, -1.15858240e-04,  3.25637770e-04,\n",
       "        -4.38372092e-05,  8.72615692e-05,  5.40138594e-08,\n",
       "         1.20957364e-03, -2.56498033e-04,  3.09845802e-06,\n",
       "        -5.86475284e-07, -3.89539195e-04],\n",
       "       [-5.55731829e-05, -9.31357481e-05, -9.35046629e-07,\n",
       "         1.94955729e-08, -1.63136249e-03, -4.69223589e-05,\n",
       "        -2.06241932e-04, -1.08683073e-04, -2.16982166e-04,\n",
       "         6.10071718e-05, -1.97128385e-03, -1.20071856e-03,\n",
       "        -2.49552947e-04, -2.71185653e-04,  1.57922249e-07,\n",
       "         3.22374875e-03, -1.74317581e-04,  4.72650549e-06,\n",
       "        -2.13572578e-06, -1.21583412e-03],\n",
       "       [-1.25005523e-05, -2.49316181e-05, -4.36291183e-07,\n",
       "        -3.57997721e-07,  7.59372970e-04, -1.16350841e-04,\n",
       "         4.10301994e-04, -4.90068130e-06,  1.35374012e-04,\n",
       "         2.43042806e-05, -6.02641006e-04, -3.09996726e-04,\n",
       "         1.15657725e-04,  1.45269919e-04,  8.28196343e-08,\n",
       "        -3.04823940e-04, -4.46405723e-05, -5.46137433e-07,\n",
       "         3.36788436e-07, -4.96827303e-04],\n",
       "       [ 9.24327575e-05,  9.94855445e-06,  4.24310656e-07,\n",
       "         1.00602396e-07,  7.17927893e-04,  3.95234830e-05,\n",
       "         2.05980670e-04,  8.87916414e-06,  5.63522334e-04,\n",
       "        -1.61632175e-05,  1.28656044e-03, -2.32661446e-04,\n",
       "         1.12295274e-04,  4.58200519e-05, -2.29071572e-09,\n",
       "         7.50754032e-04,  2.72232992e-04,  1.26676630e-06,\n",
       "         5.04652412e-07, -4.73448791e-04],\n",
       "       [-1.24083703e-05,  1.20717708e-04, -1.88535341e-06,\n",
       "         5.20776202e-08, -4.34354472e-04,  3.48597090e-06,\n",
       "         1.11345864e-04,  2.94237041e-05,  1.55868051e-04,\n",
       "         4.92096680e-06,  1.26479513e-03,  5.76578334e-04,\n",
       "        -1.45358245e-04,  2.53705000e-04,  3.94386204e-08,\n",
       "         9.96334375e-05, -9.66472128e-05,  4.08342241e-06,\n",
       "        -2.02735441e-07,  3.47338619e-05],\n",
       "       [-1.53539801e-04,  2.99481332e-05,  2.60028603e-08,\n",
       "         2.90698364e-07, -1.50041153e-03,  2.20532750e-04,\n",
       "        -8.21058518e-05,  1.24914046e-04, -2.34774117e-06,\n",
       "         2.49723693e-06,  3.39834108e-04, -7.25658337e-05,\n",
       "        -2.09840193e-04,  8.95618725e-05, -5.93406208e-08,\n",
       "         2.41448362e-03, -1.04313193e-03, -8.95857111e-07,\n",
       "        -8.38760629e-07, -1.49326741e-03],\n",
       "       [ 7.41000987e-05, -3.45210647e-05, -1.43831874e-08,\n",
       "        -6.74535431e-08, -4.75730529e-04, -5.96538604e-05,\n",
       "         1.05206640e-04, -1.08784712e-05,  4.29024760e-04,\n",
       "         1.48310286e-05, -6.76880884e-05, -2.59798784e-04,\n",
       "         9.24352377e-05,  2.93481126e-05, -7.09622177e-09,\n",
       "         1.24693839e-05, -2.46618951e-04,  9.48411412e-07,\n",
       "         1.82769817e-07,  3.54324332e-04],\n",
       "       [-6.27427826e-05, -6.05722144e-05,  6.34084810e-07,\n",
       "         1.79883303e-07,  1.76944264e-04, -3.30123654e-05,\n",
       "        -3.11767960e-04,  2.58490863e-05,  6.11788047e-04,\n",
       "         1.42685537e-05, -6.57290311e-04,  5.93677512e-04,\n",
       "        -1.29992202e-04, -1.37625826e-05, -2.54043778e-08,\n",
       "         1.32611379e-03, -3.07030221e-04, -7.00745029e-07,\n",
       "        -5.40045184e-07,  2.22629847e-04],\n",
       "       [-1.39201523e-04,  4.97304055e-05,  1.13137491e-07,\n",
       "         6.08236984e-08, -6.23276928e-04,  3.09461606e-05,\n",
       "        -2.67595141e-04,  9.91758630e-06,  1.37785258e-04,\n",
       "        -7.52835965e-07,  3.16998859e-04,  1.04232213e-03,\n",
       "        -1.36921089e-04,  7.60464608e-05, -1.40140724e-08,\n",
       "        -8.65418729e-04, -3.48921374e-04, -4.21007989e-07,\n",
       "        -8.14445668e-08, -3.85549979e-05],\n",
       "       [-4.24039646e-05, -2.98695089e-05, -1.60669027e-06,\n",
       "        -5.05813377e-07, -1.50375652e-03,  1.07736437e-05,\n",
       "        -3.79820647e-04,  1.57772447e-04, -7.19264193e-05,\n",
       "         3.79357201e-05, -1.44935282e-03,  9.61708570e-04,\n",
       "        -3.55105735e-05, -2.23866723e-04,  3.24305893e-08,\n",
       "        -8.16446757e-04,  1.23724147e-04, -1.15463282e-06,\n",
       "         4.54851013e-07, -8.06501935e-04],\n",
       "       [ 3.82968283e-05,  2.17768737e-05, -4.29899330e-07,\n",
       "         2.49741762e-08, -1.20931685e-04, -8.33398050e-06,\n",
       "         5.32361004e-05,  2.22194335e-05,  4.98832905e-05,\n",
       "        -6.59323275e-06,  1.18682753e-06, -5.32665771e-05,\n",
       "         5.29147707e-05, -3.63875922e-05,  2.14778905e-08,\n",
       "         2.59654493e-05,  8.66640400e-05, -1.05023579e-06,\n",
       "         4.13942384e-07,  3.92754449e-05],\n",
       "       [ 1.62581169e-04,  1.84854959e-04,  2.38725024e-06,\n",
       "         1.14463434e-07,  1.21258856e-03,  7.70386096e-05,\n",
       "         7.54103458e-04, -4.61381853e-05, -8.95866520e-04,\n",
       "         2.86878788e-05, -6.02587210e-04,  9.98064827e-04,\n",
       "         3.48643189e-05,  1.00531296e-04, -4.92305197e-08,\n",
       "        -6.56042363e-05,  5.92015910e-04,  2.16908178e-07,\n",
       "         1.00656833e-06, -4.35535469e-04],\n",
       "       [-1.24842833e-04,  4.28524406e-05,  3.03571655e-07,\n",
       "        -8.56956675e-08, -4.40495113e-04, -3.76735132e-05,\n",
       "         3.02003316e-04, -3.46960641e-06, -3.28292220e-04,\n",
       "        -1.61418040e-05,  1.52683464e-04,  4.55037232e-04,\n",
       "        -9.23052695e-05,  1.70464440e-04,  8.27094207e-08,\n",
       "        -1.40539414e-03,  6.19625138e-04,  1.33435787e-07,\n",
       "         8.76552623e-07, -2.36393003e-04],\n",
       "       [ 2.08528879e-05, -1.57079060e-04,  1.32559949e-06,\n",
       "         1.05444265e-07, -9.39223941e-04,  4.41446571e-05,\n",
       "         3.31558182e-04,  4.35550112e-05,  5.81547584e-04,\n",
       "        -1.04232834e-05, -5.80181836e-04, -2.32204425e-04,\n",
       "        -1.04564551e-04, -2.20645974e-06, -4.89288208e-08,\n",
       "         1.78089569e-03,  5.74900323e-05, -2.59823793e-06,\n",
       "         1.21770439e-06, -3.11315734e-04],\n",
       "       [-2.40348000e-05,  1.87551933e-05, -2.90034309e-06,\n",
       "        -7.20027775e-07, -3.42987621e-04, -6.96382358e-05,\n",
       "        -1.21257433e-04,  1.72582215e-04,  5.83387540e-04,\n",
       "         3.53049046e-06,  2.38919928e-03,  4.10084155e-04,\n",
       "         9.35305191e-05,  1.77768478e-04, -1.19731727e-07,\n",
       "        -2.18476671e-03,  6.41177679e-04,  1.27860389e-06,\n",
       "         1.11242148e-06,  9.25778221e-04],\n",
       "       [-1.05844743e-04, -3.81199978e-05,  7.85430354e-07,\n",
       "         7.40680305e-07,  2.53457826e-03, -6.39559053e-05,\n",
       "        -3.05495021e-04, -7.23869585e-05, -5.66509700e-04,\n",
       "         3.76819225e-05,  1.79750542e-03,  1.45149539e-03,\n",
       "         6.13660033e-05,  4.29771186e-04,  3.54323031e-08,\n",
       "        -8.78787302e-04,  6.63847362e-04,  2.87667467e-07,\n",
       "         2.90381000e-07,  5.50001959e-04],\n",
       "       [ 1.87810977e-05, -3.60584818e-05, -1.37091852e-07,\n",
       "        -1.93723039e-07, -4.26282037e-04,  2.80527878e-06,\n",
       "         1.70866376e-04,  3.06015209e-06,  2.41652631e-04,\n",
       "        -8.24129698e-06,  2.00566968e-04,  5.69144128e-04,\n",
       "         7.23462104e-05,  1.02001125e-04, -4.46969275e-08,\n",
       "         1.19405066e-05,  5.11469824e-05, -1.92345260e-07,\n",
       "         6.87979083e-07,  5.18313783e-04],\n",
       "       [-2.30606596e-04, -9.25017023e-05, -6.97517181e-07,\n",
       "        -3.44332306e-07,  5.00459194e-04, -1.04526067e-04,\n",
       "        -2.58735566e-04,  6.08927828e-05,  8.43703827e-04,\n",
       "         1.04518197e-05,  3.21873344e-04,  2.08534835e-04,\n",
       "         6.16539413e-05,  3.49125967e-04, -7.93069624e-08,\n",
       "         2.32150524e-03, -1.30671739e-04, -1.27785557e-06,\n",
       "        -1.06393827e-06,  4.33120457e-04]])"
      ]
     },
     "execution_count": 200,
     "metadata": {},
     "output_type": "execute_result"
    }
   ],
   "source": [
    "# x = tf.convert_to_tensor([[1.], [1.], [3.]])\n",
    "x = tf.convert_to_tensor([[1.]])\n",
    "out = N(x)\n",
    "#print(x)\n",
    "#print(N.tmp_layer_output[2])\n",
    "#print(N.hidden[0].get_weights()[0] * x + N.hidden[0].get_weights()[1])\n",
    "#print(mσ(N.hidden[0].get_weights()[0]))\n",
    "#print(np.shape(N.out.get_weights()[0]))\n",
    "#print(np.shape(N.hidden[-1].get_weights()[0]))\n",
    "#print(N.hidden[1].get_weights()[0])\n",
    "getGradient(N)\n",
    "#print(len(N.hidden))\n",
    "#print(N.num_hidden_layers)"
   ]
  },
  {
   "cell_type": "code",
   "execution_count": 174,
   "id": "9c00e4e5",
   "metadata": {},
   "outputs": [
    {
     "name": "stdout",
     "output_type": "stream",
     "text": [
      "[[0.77435577]\n",
      " [0.70470953]\n",
      " [0.69401765]\n",
      " [0.69393593]\n",
      " [0.82216334]\n",
      " [0.7266878 ]\n",
      " [0.8464954 ]\n",
      " [0.70307803]\n",
      " [0.78167766]\n",
      " [0.6979173 ]\n",
      " [0.89897776]\n",
      " [0.7507931 ]\n",
      " [0.7449102 ]\n",
      " [0.76017153]\n",
      " [0.69315803]\n",
      " [0.77281255]\n",
      " [0.72400254]\n",
      " [0.69790983]\n",
      " [0.6933072 ]\n",
      " [0.8451102 ]]\n"
     ]
    }
   ],
   "source": [
    "print(np.transpose(N.tmp_layer_output[1]))"
   ]
  },
  {
   "cell_type": "code",
   "execution_count": null,
   "id": "e968d807",
   "metadata": {},
   "outputs": [],
   "source": []
  },
  {
   "cell_type": "code",
   "execution_count": null,
   "id": "1d6080d8",
   "metadata": {},
   "outputs": [],
   "source": []
  }
 ],
 "metadata": {
  "kernelspec": {
   "display_name": "Python 3",
   "language": "python",
   "name": "python3"
  },
  "language_info": {
   "codemirror_mode": {
    "name": "ipython",
    "version": 3
   },
   "file_extension": ".py",
   "mimetype": "text/x-python",
   "name": "python",
   "nbconvert_exporter": "python",
   "pygments_lexer": "ipython3",
   "version": "3.8.8"
  }
 },
 "nbformat": 4,
 "nbformat_minor": 5
}
