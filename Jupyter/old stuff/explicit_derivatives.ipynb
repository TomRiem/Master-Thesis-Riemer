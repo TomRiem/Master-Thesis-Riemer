{
 "cells": [
  {
   "cell_type": "markdown",
   "id": "7417d936",
   "metadata": {},
   "source": [
    "# First and second derivative of FNN with respect to input"
   ]
  },
  {
   "cell_type": "markdown",
   "id": "bb90e9a5",
   "metadata": {},
   "source": [
    "Import necessary packages."
   ]
  },
  {
   "cell_type": "code",
   "execution_count": 23,
   "id": "a899b99a",
   "metadata": {},
   "outputs": [],
   "source": [
    "import tensorflow as tf\n",
    "import numpy as np"
   ]
  },
  {
   "cell_type": "markdown",
   "id": "af12c0bb",
   "metadata": {},
   "source": [
    "Define activation function and its derivatives."
   ]
  },
  {
   "cell_type": "code",
   "execution_count": 24,
   "id": "b05776f3",
   "metadata": {},
   "outputs": [],
   "source": [
    "# Custom activation function\n",
    "# from keras.layers import Activation\n",
    "# from keras import backend as K\n",
    "# from keras.utils.generic_utils import get_custom_objects\n",
    "\n",
    "#def mσ(x):\n",
    "    #return np.abs(x) + np.log(1. + np.exp(-2. * np.abs(x)))\n",
    "    \n",
    "def mσ(x):\n",
    "    return np.divide(1, 1 + np.exp(np.negative(x)))\n",
    "\n",
    "# get_custom_objects().update({'custom_activation': Activation(mσ)})\n"
   ]
  },
  {
   "cell_type": "code",
   "execution_count": 25,
   "id": "babdbb0d",
   "metadata": {},
   "outputs": [],
   "source": [
    "#def mdσ(x):\n",
    "    #return np.tanh(x)\n",
    "    \n",
    "    \n",
    "#def md2σ(x):\n",
    "    #return np.divide(1., np.square(np.cosh(x)))\n",
    "\n",
    "def mdσ(x):\n",
    "    return mσ(x) * (1 - mσ(x))\n",
    "    \n",
    "    \n",
    "def md2σ(x):\n",
    "    return mσ(x) * (1 - mσ(x)) * (1 - 2*mσ(x))"
   ]
  },
  {
   "cell_type": "code",
   "execution_count": 26,
   "id": "9dfa6983",
   "metadata": {
    "scrolled": true
   },
   "outputs": [
    {
     "name": "stdout",
     "output_type": "stream",
     "text": [
      "[[0.9999546]\n",
      " [1.       ]\n",
      " [1.       ]]\n",
      "tf.Tensor(\n",
      "[[0.9999546]\n",
      " [1.       ]\n",
      " [1.       ]], shape=(3, 1), dtype=float32)\n",
      "[[4.53958077e-05]\n",
      " [2.06115369e-09]\n",
      " [9.34807787e-14]]\n",
      "[[-4.53916860e-05]\n",
      " [-2.06115368e-09]\n",
      " [-9.34807787e-14]]\n"
     ]
    }
   ],
   "source": [
    "x = [[10.], [20.], [30.]]\n",
    "\n",
    "print(mσ(x))\n",
    "print(tf.keras.activations.sigmoid(x))\n",
    "print(mdσ(x))\n",
    "print(md2σ(x))"
   ]
  },
  {
   "cell_type": "markdown",
   "id": "6ac5b1e1",
   "metadata": {},
   "source": [
    "Does not exactly match the results/values in Julia."
   ]
  },
  {
   "cell_type": "markdown",
   "id": "be001141",
   "metadata": {},
   "source": [
    "Define Neural Network."
   ]
  },
  {
   "cell_type": "code",
   "execution_count": 27,
   "id": "1d7700d7",
   "metadata": {},
   "outputs": [],
   "source": [
    "# Define model architecture\n",
    "class PINN(tf.keras.Model):\n",
    "    \"\"\" Set basic architecture of the PINN model.\"\"\"\n",
    "\n",
    "    def __init__(self,\n",
    "                 output_dim=1,\n",
    "                 num_hidden_layers=3,\n",
    "                 num_neurons_per_layer=20,\n",
    "                 activationfunction = 'sigmoid',\n",
    "                 kernel_initializer='glorot_normal',\n",
    "                 **kwargs):\n",
    "        \n",
    "        super().__init__(**kwargs)\n",
    "\n",
    "        self.num_hidden_layers = num_hidden_layers\n",
    "        self.input_dim = 2\n",
    "        self.output_dim = output_dim\n",
    "\n",
    "        # Define NN architecture\n",
    "        \n",
    "        # Inititialize num_hidden_layers many fully connected dense layers\n",
    "        self.hidden = [tf.keras.layers.Dense(num_neurons_per_layer,\n",
    "                                             activation = activationfunction,\n",
    "                                             kernel_initializer=kernel_initializer) for _ in range(self.num_hidden_layers)]\n",
    "        \n",
    "        # Output layer\n",
    "        #self.out = tf.keras.layers.Dense(output_dim, activation=None)\n",
    "        self.out = tf.keras.layers.Dense(output_dim, activation = activationfunction)\n",
    "        \n",
    "    def call(self, X):\n",
    "        \"\"\"Forward-pass through neural network.\"\"\"\n",
    "        self.tmp_layer_output = [X]\n",
    "        #Z = self.scale(X)\n",
    "        Z = X\n",
    "        \n",
    "        for i in range(self.num_hidden_layers):\n",
    "            Z = self.hidden[i](Z)\n",
    "            self.tmp_layer_output.append(Z)\n",
    "            \n",
    "        return self.out(Z)"
   ]
  },
  {
   "cell_type": "markdown",
   "id": "b88587d9",
   "metadata": {},
   "source": [
    "Compute gradient."
   ]
  },
  {
   "cell_type": "markdown",
   "id": "78803620",
   "metadata": {},
   "source": [
    "Compute gradient for layer l."
   ]
  },
  {
   "cell_type": "code",
   "execution_count": 28,
   "id": "9fd5f168",
   "metadata": {},
   "outputs": [],
   "source": [
    "def get_gradient_layer(W,b,a,δ):\n",
    "#     z1 = np.transpose(a @ W)  \n",
    "#     b = np.reshape(b, np.shape(z1))\n",
    "#     z2 = z1 + b\n",
    "#     z3 = np.diag(mdσ(z2).flatten('F')) @ δ\n",
    "    \n",
    "#     return W @ z3\n",
    "    return W @ (mdσ(np.transpose(a @ W + b)) * δ)"
   ]
  },
  {
   "cell_type": "markdown",
   "id": "2fb197a1",
   "metadata": {},
   "source": [
    "Compute gradient of neural network."
   ]
  },
  {
   "cell_type": "code",
   "execution_count": 29,
   "id": "6b270783",
   "metadata": {},
   "outputs": [],
   "source": [
    "def get_gradient(N):\n",
    "    δ = get_gradient_layer(N.out.get_weights()[0], N.out.get_weights()[1], N.tmp_layer_output[-1], np.identity(N.output_dim))\n",
    "\n",
    "    for k in range(N.num_hidden_layers-1, -1, -1):\n",
    "        δ = get_gradient_layer(N.hidden[k].get_weights()[0], N.hidden[k].get_weights()[1], N.tmp_layer_output[k], δ)\n",
    "            \n",
    "    return δ"
   ]
  },
  {
   "cell_type": "markdown",
   "id": "6ba635ba",
   "metadata": {},
   "source": [
    "Compute gradient and Hessian of last layer."
   ]
  },
  {
   "cell_type": "code",
   "execution_count": 30,
   "id": "798f579a",
   "metadata": {},
   "outputs": [],
   "source": [
    "def get_gradient_hessian_last_layer(W,b,a,δ):\n",
    "#     z1 = np.transpose(a @ W)  \n",
    "#     b = np.reshape(b, np.shape(z1))\n",
    "#     z2 = z1 + b\n",
    "#     z3 = np.diag(mdσ(z2).flatten('F')) @ δ\n",
    "    \n",
    "#     ϑ = np.diag(md2σ(z2).flatten('F'))\n",
    "    \n",
    "#     return W @ z3, W @ ϑ @ np.transpose(W)\n",
    "    z = np.transpose(a @ W + b)\n",
    "    return W @ (mdσ(z) * δ), W @ (md2σ(z) * np.transpose(W))"
   ]
  },
  {
   "cell_type": "markdown",
   "id": "81d8133f",
   "metadata": {},
   "source": [
    "Compute gradient and Hessian of hidden layer."
   ]
  },
  {
   "cell_type": "code",
   "execution_count": 31,
   "id": "30fc6be9",
   "metadata": {},
   "outputs": [],
   "source": [
    "def get_gradient_hessian_hidden_layer(W,b,a,δ,ϑ):\n",
    "#     z1 = np.transpose(a @ W)  \n",
    "#     b = np.reshape(b, np.shape(z1))\n",
    "#     z2 = z1 + b\n",
    "#     z3 = np.diag(mdσ(z2).flatten('F')) @ δ\n",
    "    \n",
    "#     t2 = δ * md2σ(z2)\n",
    "#     H1 = W @ np.diag(t2.flatten('F')) @ np.transpose(W)\n",
    "\n",
    "#     dσt = np.diag(mdσ(z2).flatten('F'))\n",
    "#     H2 = W @ dσt @ ϑ @ dσt @ np.transpose(W)\n",
    "    \n",
    "#     return W @ z3, H1+H2\n",
    "    z = np.transpose(a @ W + b)\n",
    "    dσt = mdσ(z) * np.transpose(W)\n",
    "    return W @ (mdσ(z) * δ), W @ ((md2σ(z) * δ) * np.transpose(W)) + np.transpose(dσt) @ ϑ @ dσt "
   ]
  },
  {
   "cell_type": "markdown",
   "id": "cab18966",
   "metadata": {},
   "source": [
    "Compute Hessian and gradient of neural network."
   ]
  },
  {
   "cell_type": "code",
   "execution_count": 32,
   "id": "d5ad2bc0",
   "metadata": {},
   "outputs": [],
   "source": [
    "def get_hessian(N):\n",
    "    δ,ϑ = get_gradient_hessian_last_layer(N.out.get_weights()[0], N.out.get_weights()[1], N.tmp_layer_output[-1], np.identity(N.output_dim))\n",
    "\n",
    "    for k in range(N.num_hidden_layers-1, -1, -1):\n",
    "        δ,ϑ = get_gradient_hessian_hidden_layer(N.hidden[k].get_weights()[0], N.hidden[k].get_weights()[1], N.tmp_layer_output[k], δ,  ϑ)\n",
    "            \n",
    "    return δ,ϑ"
   ]
  },
  {
   "cell_type": "code",
   "execution_count": 33,
   "id": "10450c17",
   "metadata": {},
   "outputs": [
    {
     "name": "stdout",
     "output_type": "stream",
     "text": [
      "(1, 20)\n",
      "(20, 20)\n",
      "(20,)\n",
      "(20, 1)\n",
      "[[-0.00173629]\n",
      " [-0.0461097 ]\n",
      " [ 0.02222086]\n",
      " [-0.00479989]\n",
      " [-0.00386268]\n",
      " [-0.01797646]\n",
      " [ 0.06091084]\n",
      " [-0.07671752]\n",
      " [-0.00100137]\n",
      " [ 0.07066401]\n",
      " [-0.03450035]\n",
      " [-0.04417004]\n",
      " [-0.08326985]\n",
      " [ 0.02460143]\n",
      " [ 0.03797385]\n",
      " [-0.08481718]\n",
      " [ 0.05611779]\n",
      " [-0.06934197]\n",
      " [ 0.05944929]\n",
      " [-0.05830243]]\n"
     ]
    }
   ],
   "source": [
    "z = np.transpose(NeuralN.tmp_layer_output[-2] @ NeuralN.hidden[-1].weights[0] + NeuralN.hidden[-1].weights[1])\n",
    "print(NeuralN.tmp_layer_output[-2].shape)\n",
    "print(NeuralN.hidden[-1].weights[0].shape)\n",
    "print(NeuralN.hidden[-1].weights[1].shape)\n",
    "print(z.shape)\n",
    "print(md2σ(z))"
   ]
  },
  {
   "cell_type": "markdown",
   "id": "e5129b90",
   "metadata": {},
   "source": [
    "Why do we get a 2D vector when we insert a 2D vector?"
   ]
  },
  {
   "cell_type": "code",
   "execution_count": 34,
   "id": "11139e62",
   "metadata": {
    "scrolled": true
   },
   "outputs": [
    {
     "name": "stdout",
     "output_type": "stream",
     "text": [
      "[[0.]\n",
      " [0.]]\n"
     ]
    }
   ],
   "source": [
    "NeuralN = PINN()\n",
    "\n",
    "x = tf.random.normal((1,2))\n",
    "\n",
    "out = NeuralN(x)\n",
    "#print(out)\n",
    "\n",
    "δ1 = get_gradient(NeuralN)\n",
    "δ2,ϑ = get_hessian(NeuralN)\n",
    "\n",
    "print(δ1- δ2)\n",
    "#print(δ1[0])\n",
    "#print(ϑ.flatten())"
   ]
  },
  {
   "cell_type": "markdown",
   "id": "3e510d2f",
   "metadata": {},
   "source": [
    "-> We need to choose appropriate dtypes so that no operation overflows."
   ]
  },
  {
   "cell_type": "code",
   "execution_count": 35,
   "id": "9c00e4e5",
   "metadata": {},
   "outputs": [],
   "source": [
    "def _fvals1(N, x):\n",
    "\n",
    "    with tf.GradientTape() as g:\n",
    "        g.watch(x)\n",
    "        y = N(x)\n",
    "\n",
    "    dy_dx = g.gradient(y, x)\n",
    "    dy_dx = np.transpose(dy_dx.numpy())\n",
    "\n",
    "    return y, dy_dx"
   ]
  },
  {
   "cell_type": "code",
   "execution_count": 36,
   "id": "b017a518",
   "metadata": {},
   "outputs": [
    {
     "name": "stdout",
     "output_type": "stream",
     "text": [
      "0.0\n",
      "4.5843378546270136e-10\n",
      "4.5843378546270136e-10\n",
      "0.0\n",
      "8.251608966725052e-11\n",
      "8.251608966725052e-11\n",
      "0.0\n",
      "1.6434315828037948e-10\n",
      "1.6434315828037948e-10\n",
      "0.0\n",
      "1.751187946328149e-10\n",
      "1.751187946328149e-10\n",
      "0.0\n",
      "1.7745272322123738e-10\n",
      "1.7745272322123738e-10\n"
     ]
    }
   ],
   "source": [
    "for i in range(5):\n",
    "    x = tf.random.normal((1,2))\n",
    "    NeuralN = PINN()\n",
    "    out = NeuralN(x)\n",
    "    δ1 = get_gradient(NeuralN)\n",
    "    δ2,ϑ = get_hessian(NeuralN)\n",
    "    δ_ad = _fvals1(NeuralN, x)[1]\n",
    "    print(np.linalg.norm(δ1-δ2))\n",
    "    print(np.linalg.norm(δ1-δ_ad))\n",
    "    print(np.linalg.norm(δ2-δ_ad))"
   ]
  },
  {
   "cell_type": "code",
   "execution_count": 37,
   "id": "e968d807",
   "metadata": {},
   "outputs": [],
   "source": [
    "def _fvals2(N, x):\n",
    "\n",
    "    with tf.GradientTape(persistent=True) as h:\n",
    "        h.watch(x)\n",
    "        with tf.GradientTape() as g:\n",
    "            g.watch(x)\n",
    "            y = N(x)\n",
    "\n",
    "        dy_dx = g.gradient(y, x)\n",
    "    \n",
    "    d2y_d2x = h.jacobian(dy_dx, x)\n",
    "\n",
    "    return y, dy_dx, d2y_d2x"
   ]
  },
  {
   "cell_type": "code",
   "execution_count": 38,
   "id": "109ef374",
   "metadata": {},
   "outputs": [
    {
     "name": "stdout",
     "output_type": "stream",
     "text": [
      "5.306208975426972e-11\n",
      "1.242952224669795e-11\n",
      "2.4844468069760115e-11\n",
      "1.0945939278330516e-10\n",
      "WARNING:tensorflow:5 out of the last 5 calls to <function pfor.<locals>.f at 0x0000025DA1A180D0> triggered tf.function retracing. Tracing is expensive and the excessive number of tracings could be due to (1) creating @tf.function repeatedly in a loop, (2) passing tensors with different shapes, (3) passing Python objects instead of tensors. For (1), please define your @tf.function outside of the loop. For (2), @tf.function has experimental_relax_shapes=True option that relaxes argument shapes that can avoid unnecessary retracing. For (3), please refer to https://www.tensorflow.org/guide/function#controlling_retracing and https://www.tensorflow.org/api_docs/python/tf/function for  more details.\n",
      "7.201135406061884e-11\n"
     ]
    }
   ],
   "source": [
    "for i in range(5):\n",
    "    x = tf.random.normal((1,2))\n",
    "    NeuralN = PINN()\n",
    "    out = NeuralN(x)\n",
    "    δ,ϑ = get_hessian(NeuralN)\n",
    "    ϑ = ϑ.flatten()\n",
    "    ϑ_ad = _fvals2(NeuralN, x)[2].numpy().flatten()\n",
    "    print(np.linalg.norm(ϑ-ϑ_ad))"
   ]
  },
  {
   "cell_type": "markdown",
   "id": "fcffbf82",
   "metadata": {},
   "source": [
    "Maybe gradient tape thinks that the neural network is not differentiable?"
   ]
  },
  {
   "cell_type": "markdown",
   "id": "3b9f4fec",
   "metadata": {},
   "source": [
    "# Explicit derivatives of ResNet"
   ]
  },
  {
   "cell_type": "markdown",
   "id": "fde3e683",
   "metadata": {},
   "source": [
    "Here we only approximate the \"half\" gradient so far. "
   ]
  },
  {
   "cell_type": "code",
   "execution_count": 198,
   "id": "8a110916",
   "metadata": {},
   "outputs": [],
   "source": [
    "class PINN_ResNet(tf.keras.Model):\n",
    "    \"\"\" Set basic architecture of the PINN model.\"\"\"\n",
    "\n",
    "    def __init__(self,\n",
    "                 ResNetLayers=3,\n",
    "                 ResNetNeurons=16,\n",
    "                 ResNetStepsize=1.0,\n",
    "                 ResNetActivation='sigmoid',\n",
    "                 **kwargs):\n",
    "        \n",
    "        super(PINN_ResNet, self).__init__(**kwargs)\n",
    "        \n",
    "        #RNact = tf.keras.activations.get(ResNetActivation)\n",
    "        #RNact = my_act\n",
    "        RNact = ResNetActivation\n",
    "        \n",
    "\n",
    "        \n",
    "        self.ResNetLayers = ResNetLayers\n",
    "        self.ResNetStepsize = ResNetStepsize\n",
    "\n",
    "        self.ResNet = [tf.keras.layers.Dense(ResNetNeurons,\n",
    "                                        activation = RNact) for _ in range(self.ResNetLayers)]\n",
    "        self.wb = tf.keras.layers.Dense(1)\n",
    "        self.A = tf.keras.layers.Dense(2, use_bias=False)\n",
    "        self.c = tf.keras.layers.Dense(1, use_bias=False)\n",
    "        \n",
    "        #self.num_hidden_layers = num_hidden_layers\n",
    "        self.input_dim = 2\n",
    "        self.output_dim = 1\n",
    "\n",
    "\n",
    "        # Define NN architecture\n",
    "        \n",
    "        # Output layer\n",
    "        #self.out = tf.keras.layers.Dense(1, activation='sigmoid')\n",
    "\n",
    "        \n",
    "    def call(self, input_tensor, training=False):\n",
    "        \"\"\"Forward-pass through neural network.\"\"\"\n",
    "        \n",
    "        self.tmp_layer_output = [input_tensor]\n",
    "        \n",
    "        N = self.ResNet[0](input_tensor, training=training)\n",
    "        \n",
    "        for i in range(1, self.ResNetLayers):\n",
    "            self.tmp_layer_output.append(N)\n",
    "            N = N + self.ResNetStepsize * self.ResNet[i](N, training=training)\n",
    "        \n",
    "        Phi = self.wb(N, training=training)\n",
    "\n",
    "        As = self.A(input_tensor, training=training)\n",
    "        sAs = tf.keras.layers.Dot(axes=(1))([input_tensor, As])\n",
    "        Phi += .5 * sAs\n",
    "        Phi += self.c(input_tensor, training=training)\n",
    "            \n",
    "        return Phi"
   ]
  },
  {
   "cell_type": "markdown",
   "id": "0e957d02",
   "metadata": {},
   "source": [
    "Gradient of model, which approximates solution of pde"
   ]
  },
  {
   "cell_type": "code",
   "execution_count": 199,
   "id": "06b6137d",
   "metadata": {},
   "outputs": [],
   "source": [
    "def get_gradient_ResNet(R, x):\n",
    "    output = R(x)\n",
    "    δ = get_gradient_layer(R.ResNet[-1].get_weights()[0], R.ResNet[-1].get_weights()[1], R.tmp_layer_output[-1], R.wb.get_weights()[0])\n",
    "\n",
    "    δ = R.wb.get_weights()[0] + R.ResNetStepsize * δ\n",
    " \n",
    "    for k in range(R.ResNetLayers-2, 0, -1):\n",
    "        δ = δ + R.ResNetStepsize * get_gradient_layer(R.ResNet[k].get_weights()[0], R.ResNet[k].get_weights()[1], R.tmp_layer_output[k], δ)\n",
    "          \n",
    "    \n",
    "    δ = get_gradient_layer(R.ResNet[0].get_weights()[0], R.ResNet[0].get_weights()[1], R.tmp_layer_output[0], δ)\n",
    "    \n",
    "    M = R.A.get_weights()[0]\n",
    "    \n",
    "    return output, δ + 0.5*np.transpose(x @ (M + np.transpose(M))) + R.c.get_weights()[0]\n",
    "    #return δ "
   ]
  },
  {
   "cell_type": "markdown",
   "id": "3fd12371",
   "metadata": {},
   "source": [
    "Something is wrong with the 'whole' gradient?"
   ]
  },
  {
   "cell_type": "code",
   "execution_count": 200,
   "id": "e05e73c7",
   "metadata": {
    "scrolled": false
   },
   "outputs": [
    {
     "name": "stdout",
     "output_type": "stream",
     "text": [
      "[[4.1017737]\n",
      " [3.9596167]]\n",
      "[[4.1017733]\n",
      " [3.959617 ]]\n",
      "5.3312016e-07\n"
     ]
    }
   ],
   "source": [
    "Resnet = PINN_ResNet()\n",
    "\n",
    "x = tf.constant([[1., 10.]])\n",
    "\n",
    "\n",
    "out, δ = get_gradient_ResNet(Resnet,x)\n",
    "\n",
    "print(δ)\n",
    "\n",
    "δ_ad = _fvals1(Resnet, x)\n",
    "\n",
    "print(δ_ad[1])\n",
    "\n",
    "print(np.linalg.norm(δ - δ_ad[1]))"
   ]
  },
  {
   "cell_type": "code",
   "execution_count": 211,
   "id": "0e35744b",
   "metadata": {},
   "outputs": [
    {
     "name": "stdout",
     "output_type": "stream",
     "text": [
      "1.2287812e-07\n",
      "1.1920929e-07\n",
      "1.3328004e-07\n",
      "1.1920929e-07\n",
      "6.143906e-08\n",
      "1.2287812e-07\n",
      "0.0\n",
      "2.9802322e-08\n",
      "8.940697e-08\n",
      "1.4901161e-08\n"
     ]
    }
   ],
   "source": [
    "for i in range(10):\n",
    "    x = tf.random.normal((1,2))\n",
    "    Resnet = PINN_ResNet()\n",
    "    out, δ1 = get_gradient_ResNet(Resnet,x)\n",
    "    δ_ad = _fvals1(Resnet, x)[1]\n",
    "    print(np.linalg.norm(δ1-δ_ad))"
   ]
  },
  {
   "cell_type": "code",
   "execution_count": 205,
   "id": "b0d14a8e",
   "metadata": {},
   "outputs": [],
   "source": [
    "def get_gradient_hessian_layer_ResNet(W,b,a,δ):\n",
    "#     z1 = np.transpose(a @ W)  \n",
    "#     b = np.reshape(b, np.shape(z1))\n",
    "#     z2 = z1 + b\n",
    "#     z3 = np.diag(mdσ(z2).flatten('F')) @ δ\n",
    "    \n",
    "#     z4 = md2σ(z2) * δ\n",
    "#     ϑ = np.diag(z4.flatten('F'))\n",
    "    \n",
    "#     return W @ z3, W @ ϑ @ np.transpose(W)\n",
    "\n",
    "    z = np.transpose(a @ W + b)\n",
    "    return W @ (mdσ(z) * δ), W @ ((md2σ(z) * δ) * np.transpose(W)), z"
   ]
  },
  {
   "cell_type": "code",
   "execution_count": 215,
   "id": "600c9355",
   "metadata": {},
   "outputs": [],
   "source": [
    "def get_hessian_ResNet(R,x):\n",
    "    output = R(x)\n",
    "    δ,ϑ,z = get_gradient_hessian_layer_ResNet(R.ResNet[-1].get_weights()[0], R.ResNet[-1].get_weights()[1], R.tmp_layer_output[-1], R.wb.get_weights()[0])\n",
    "\n",
    "    δ = R.wb.get_weights()[0] + R.ResNetStepsize * δ\n",
    " \n",
    "    for k in range(R.ResNetLayers-2, 0, -1):\n",
    "        δ_new, ϑ_new_1, z = get_gradient_hessian_layer_ResNet(R.ResNet[k].get_weights()[0], R.ResNet[k].get_weights()[1], R.tmp_layer_output[k], δ)\n",
    "        t = ϑ + R.ResNetStepsize * R.ResNet[k].get_weights()[0] @ ( mdσ(z) * ϑ)\n",
    "        ϑ_new_2 = np.transpose(t) + R.ResNetStepsize * R.ResNet[k].get_weights()[0] @ ( mdσ(z) * np.transpose(t))\n",
    "        ϑ = ϑ_new_1 + ϑ_new_2\n",
    "        δ = δ + R.ResNetStepsize * δ_new\n",
    "    \n",
    "      \n",
    "    δ, ϑ = get_gradient_hessian_hidden_layer(R.ResNet[0].get_weights()[0], R.ResNet[0].get_weights()[1], R.tmp_layer_output[0], δ, ϑ)\n",
    "    \n",
    "    M = R.A.get_weights()[0]\n",
    "    \n",
    "    return output, δ + 0.5*np.transpose(x @ (M + np.transpose(M))) + R.c.get_weights()[0], ϑ + 0.5*(M + np.transpose(M))"
   ]
  },
  {
   "cell_type": "code",
   "execution_count": 217,
   "id": "51c88154",
   "metadata": {},
   "outputs": [
    {
     "name": "stdout",
     "output_type": "stream",
     "text": [
      "8.429369702178807e-08\n",
      "4.2146848510894035e-08\n",
      "0.0\n",
      "3.725290298461914e-09\n",
      "0.0\n",
      "1.1920928955078125e-07\n",
      "7.450580596923828e-09\n",
      "6.143906154658885e-08\n",
      "0.0\n",
      "1.4901161193847656e-08\n",
      "1.3170890159654385e-08\n",
      "0.0\n",
      "5.960464477539063e-08\n",
      "8.429369702178807e-08\n",
      "1.0536712127723509e-08\n",
      "0.0\n",
      "0.0\n",
      "0.0\n",
      "1.580506819158526e-08\n",
      "1.1920928955078125e-07\n"
     ]
    }
   ],
   "source": [
    "for i in range(20):\n",
    "    x = tf.random.normal((1,2), dtype=tf.float64)\n",
    "    Resnet = PINN_ResNet()\n",
    "    out,δ,ϑ = get_hessian_ResNet(Resnet,x)\n",
    "    ϑ = ϑ.flatten()\n",
    "    ϑ_ad = _fvals2(Resnet, x)[2].numpy().flatten()\n",
    "    print(np.linalg.norm(ϑ-ϑ_ad))"
   ]
  },
  {
   "cell_type": "code",
   "execution_count": null,
   "id": "3eb30a95",
   "metadata": {},
   "outputs": [],
   "source": []
  },
  {
   "cell_type": "code",
   "execution_count": null,
   "id": "fa5e2aa6",
   "metadata": {},
   "outputs": [],
   "source": []
  }
 ],
 "metadata": {
  "kernelspec": {
   "display_name": "Python 3",
   "language": "python",
   "name": "python3"
  },
  "language_info": {
   "codemirror_mode": {
    "name": "ipython",
    "version": 3
   },
   "file_extension": ".py",
   "mimetype": "text/x-python",
   "name": "python",
   "nbconvert_exporter": "python",
   "pygments_lexer": "ipython3",
   "version": "3.8.8"
  }
 },
 "nbformat": 4,
 "nbformat_minor": 5
}
